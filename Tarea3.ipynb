{
  "nbformat": 4,
  "nbformat_minor": 0,
  "metadata": {
    "colab": {
      "name": "Codigo_Tema_7.ipynb",
      "provenance": [],
      "include_colab_link": true
    },
    "kernelspec": {
      "name": "python3",
      "display_name": "Python 3"
    }
  },
  "cells": [
    {
      "cell_type": "markdown",
      "metadata": {
        "id": "view-in-github",
        "colab_type": "text"
      },
      "source": [
        "<a href=\"https://colab.research.google.com/github/ElYisusF2/Repo_Curso_Python_AFIF/blob/main/Tarea3.ipynb\" target=\"_parent\"><img src=\"https://colab.research.google.com/assets/colab-badge.svg\" alt=\"Open In Colab\"/></a>"
      ]
    },
    {
      "cell_type": "markdown",
      "metadata": {
        "id": "ObWcL54c_14Y"
      },
      "source": [
        "# **Tarea**\r\n",
        "\r\n",
        "# Para la tarea debes copiar el código anterior,\r\n",
        "# cambiar el condicional de tal manera que ahora\r\n",
        "# solo una condición debe ser verdadera para que se\r\n",
        "# ejecute el primer print\r\n",
        "\r\n",
        "**Pista**\r\n",
        "\r\n",
        "**Cambiar una palabra por otra varias veces**"
      ]
    },
    {
      "cell_type": "code",
      "metadata": {
        "id": "_PN6FRSbAh0A",
        "colab": {
          "base_uri": "https://localhost:8080/"
        },
        "outputId": "71463bc0-2375-44e9-dd7a-c2f3ec09d6d2"
      },
      "source": [
        "# Aquí puedes hacer tu tarea\r\n",
        "\r\n",
        "Carne_doble_triple = False\r\n",
        "Salsa_de_coral = False \r\n",
        "Decorado_de_lujo = True\r\n",
        "Estilo_animal = False \r\n",
        "Guijarros_extra = False\r\n",
        "Vibración_exprimida = False\r\n",
        "Eje_con_grasa_ligera = False\r\n",
        "Hazlo_llorar = False\r\n",
        "Quemado = False \r\n",
        "Nadando = False\r\n",
        "Pepinillos = False\r\n",
        "\r\n",
        "\r\n",
        "if (Carne_doble_triple or \r\n",
        "Salsa_de_coral or\r\n",
        "Decorado_de_lujo or\r\n",
        "Estilo_animal or \r\n",
        "Guijarros_extra or\r\n",
        "Vibración_exprimida or\r\n",
        "Eje_con_grasa_ligera or \r\n",
        "Hazlo_llorar or\r\n",
        "Quemado or\r\n",
        "Nadando or\r\n",
        "Pepinillos ):\r\n",
        "  print(\"Quiere la kangreburguer\")\r\n",
        "else:\r\n",
        "  print(\"No quiere la kangrebuger\")"
      ],
      "execution_count": null,
      "outputs": [
        {
          "output_type": "stream",
          "text": [
            "Quiere la kangreburguer\n"
          ],
          "name": "stdout"
        }
      ]
    }
  ]
}