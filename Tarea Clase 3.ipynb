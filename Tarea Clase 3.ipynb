{
  "nbformat": 4,
  "nbformat_minor": 0,
  "metadata": {
    "colab": {
      "name": "Untitled1.ipynb",
      "provenance": [],
      "authorship_tag": "ABX9TyMDg7UviNoyJCjECDY7KigU",
      "include_colab_link": true
    },
    "kernelspec": {
      "name": "python3",
      "display_name": "Python 3"
    }
  },
  "cells": [
    {
      "cell_type": "markdown",
      "metadata": {
        "id": "view-in-github",
        "colab_type": "text"
      },
      "source": [
        "<a href=\"https://colab.research.google.com/github/ElYisusF2/Repo_Curso_Python_AFIF/blob/main/Tarea%20Clase%203.ipynb\" target=\"_parent\"><img src=\"https://colab.research.google.com/assets/colab-badge.svg\" alt=\"Open In Colab\"/></a>"
      ]
    },
    {
      "cell_type": "markdown",
      "metadata": {
        "id": "FfMJuna_CpDZ"
      },
      "source": [
        "# Tarea de la clase 3"
      ]
    },
    {
      "cell_type": "code",
      "metadata": {
        "colab": {
          "base_uri": "https://localhost:8080/"
        },
        "id": "xF_JGlY-CkXX",
        "outputId": "405996fe-0322-4aed-cac9-c62e575597ce"
      },
      "source": [
        "#La idea es crear una lisat con objetos de videojuegos y sus características, todo inventado\r\n",
        "\r\n",
        "Objetos_vj = [{'Nombre':'Infinity Blade', 'Daño':int(250), 'Durabilidad':int(50), 'Ubicación':'La cima de la torre oscura', 'Valor':float(5999.99)},\r\n",
        "              {'Nombre':'Hell Bow', 'Daño':int(100), 'Durabilidad':int(75), 'Ubicación':'El abismo de Ferlucci', 'Valor':float(4599.59)}, \r\n",
        "              {'Nombre':'Lanza antigravitacional', 'Daño':int(5000), 'Durabilidad':int(57), 'Ubicación':'Secreta', 'Valor':float(12599.59)}, \r\n",
        "              {'Nombre':'Granada Santa', 'Daño':int(9000), 'Durabilidad':int(1), 'Ubicación':'Capilla del Dios Hawkeye', 'Valor':float(1111.33)}] \r\n",
        "\r\n",
        "Objetos_vj"
      ],
      "execution_count": 13,
      "outputs": [
        {
          "output_type": "execute_result",
          "data": {
            "text/plain": [
              "[{'Daño': 250,\n",
              "  'Durabilidad': 50,\n",
              "  'Nombre': 'Infinity Blade',\n",
              "  'Ubicación': 'La cima de la torre oscura',\n",
              "  'Valor': 5999.99},\n",
              " {'Daño': 100,\n",
              "  'Durabilidad': 75,\n",
              "  'Nombre': 'Hell Bow',\n",
              "  'Ubicación': 'El abismo de Ferlucci',\n",
              "  'Valor': 4599.59},\n",
              " {'Daño': 5000,\n",
              "  'Durabilidad': 57,\n",
              "  'Nombre': 'Lanza antigravitacional',\n",
              "  'Ubicación': 'Secreta',\n",
              "  'Valor': 12599.59},\n",
              " {'Daño': 9000,\n",
              "  'Durabilidad': 1,\n",
              "  'Nombre': 'Granada Santa',\n",
              "  'Ubicación': 'Capilla del Dios Hawkeye',\n",
              "  'Valor': 1111.33}]"
            ]
          },
          "metadata": {
            "tags": []
          },
          "execution_count": 13
        }
      ]
    },
    {
      "cell_type": "code",
      "metadata": {
        "colab": {
          "base_uri": "https://localhost:8080/"
        },
        "id": "nIE0JhiiEB7x",
        "outputId": "2cbf366f-efaf-410c-9448-6982ca24da21"
      },
      "source": [
        "#Para agregar colores a la lista de diccionarios:\r\n",
        "\r\n",
        "Color1 = input('Escribe un color para pintar el primer objeto: ')\r\n",
        "Color2 = input('Ahora escribe un color para pintar el segundo objeto: ')\r\n",
        "Color3 = input('Ya casi, escribe un color para pintar el tercer objeto: ')\r\n",
        "Color4 = input('Por último, escribe un color para pintar el cuarto objeto: ')\r\n",
        "\r\n",
        "Objetos_vj[0].update({'Color':Color1})\r\n",
        "Objetos_vj[1].update({'Color':Color2})\r\n",
        "Objetos_vj[2].update({'Color':Color3})\r\n",
        "Objetos_vj[3].update({'Color':Color4})\r\n",
        "\r\n",
        "Objetos_vj\r\n"
      ],
      "execution_count": 14,
      "outputs": [
        {
          "output_type": "stream",
          "text": [
            "Escribe un color para pintar el primer objeto: Dorado\n",
            "Ahora escribe un color para pintar el segundo objeto: Rojo\n",
            "Ya casi, escribe un color para pintar el tercer objeto: Blanco\n",
            "Por último, escribe un color para pintar el cuarto objeto: Plateado\n"
          ],
          "name": "stdout"
        },
        {
          "output_type": "execute_result",
          "data": {
            "text/plain": [
              "[{'Color': 'Dorado',\n",
              "  'Daño': 250,\n",
              "  'Durabilidad': 50,\n",
              "  'Nombre': 'Infinity Blade',\n",
              "  'Ubicación': 'La cima de la torre oscura',\n",
              "  'Valor': 5999.99},\n",
              " {'Color': 'Rojo',\n",
              "  'Daño': 100,\n",
              "  'Durabilidad': 75,\n",
              "  'Nombre': 'Hell Bow',\n",
              "  'Ubicación': 'El abismo de Ferlucci',\n",
              "  'Valor': 4599.59},\n",
              " {'Color': 'Blanco',\n",
              "  'Daño': 5000,\n",
              "  'Durabilidad': 57,\n",
              "  'Nombre': 'Lanza antigravitacional',\n",
              "  'Ubicación': 'Secreta',\n",
              "  'Valor': 12599.59},\n",
              " {'Color': 'Plateado',\n",
              "  'Daño': 9000,\n",
              "  'Durabilidad': 1,\n",
              "  'Nombre': 'Granada Santa',\n",
              "  'Ubicación': 'Capilla del Dios Hawkeye',\n",
              "  'Valor': 1111.33}]"
            ]
          },
          "metadata": {
            "tags": []
          },
          "execution_count": 14
        }
      ]
    },
    {
      "cell_type": "code",
      "metadata": {
        "colab": {
          "base_uri": "https://localhost:8080/"
        },
        "id": "2_ec5l_gCwkQ",
        "outputId": "cb8697df-37f7-467c-c68b-38a8778e6781"
      },
      "source": [
        "#Para que el usuario agregue un objeto\r\n",
        "\r\n",
        "Objeto_Usuario = {'Nombre':input('Ahora te toca a ti, nombre algún objeto: '), \r\n",
        "                  'Daño':int(input('Genial, ahora ¿cuánto daño quieres que haga? ')), \r\n",
        "                  'Durabilidad':int(input('¿Qué durabilidad tendría tu objeto? ')), \r\n",
        "                  'Ubicación':input('Inventa una ubicación, aqui se esconderá tu objeto: '), \r\n",
        "                  'Valor':float(input('Asígnale un valor monetario a tu objeto (Recuerda usar decimales): ')),\r\n",
        "                  'Color':input('Por último, ponle un color a tu objeto: ')}\r\n",
        "\r\n",
        "Objetos_vj.append(Objeto_Usuario)\r\n",
        "\r\n",
        "Objetos_vj"
      ],
      "execution_count": 16,
      "outputs": [
        {
          "output_type": "stream",
          "text": [
            "Ahora te toca a ti, nombre algún objeto: Sable de luz\n",
            "Genial, ahora ¿cuánto daño quieres que haga? 66\n",
            "¿Qué durabilidad tendría tu objeto? 128\n",
            "Inventa una ubicación, aqui se esconderá tu objeto: Estrella de la muerte\n",
            "Asígnale un valor monetario a tu objeto (Recuerda usar decimales): 66.66\n",
            "Por último, ponle un color a tu objeto: Rojo\n"
          ],
          "name": "stdout"
        },
        {
          "output_type": "execute_result",
          "data": {
            "text/plain": [
              "[{'Color': 'Dorado',\n",
              "  'Daño': 250,\n",
              "  'Durabilidad': 50,\n",
              "  'Nombre': 'Infinity Blade',\n",
              "  'Ubicación': 'La cima de la torre oscura',\n",
              "  'Valor': 5999.99},\n",
              " {'Color': 'Rojo',\n",
              "  'Daño': 100,\n",
              "  'Durabilidad': 75,\n",
              "  'Nombre': 'Hell Bow',\n",
              "  'Ubicación': 'El abismo de Ferlucci',\n",
              "  'Valor': 4599.59},\n",
              " {'Color': 'Blanco',\n",
              "  'Daño': 5000,\n",
              "  'Durabilidad': 57,\n",
              "  'Nombre': 'Lanza antigravitacional',\n",
              "  'Ubicación': 'Secreta',\n",
              "  'Valor': 12599.59},\n",
              " {'Color': 'Plateado',\n",
              "  'Daño': 9000,\n",
              "  'Durabilidad': 1,\n",
              "  'Nombre': 'Granada Santa',\n",
              "  'Ubicación': 'Capilla del Dios Hawkeye',\n",
              "  'Valor': 1111.33},\n",
              " {'Color': 'Rojo',\n",
              "  'Daño': 177,\n",
              "  'Durabilidad': 150,\n",
              "  'Nombre': 'Sable de luz',\n",
              "  'Ubicación': 'Estrella de la muerte',\n",
              "  'Valor': 66.66},\n",
              " {'Color': 'Rojo',\n",
              "  'Daño': 66,\n",
              "  'Durabilidad': 128,\n",
              "  'Nombre': 'Sable de luz',\n",
              "  'Ubicación': 'Estrella de la muerte',\n",
              "  'Valor': 66.66}]"
            ]
          },
          "metadata": {
            "tags": []
          },
          "execution_count": 16
        }
      ]
    }
  ]
}